{
 "cells": [
  {
   "cell_type": "markdown",
   "id": "aaf36dd2",
   "metadata": {},
   "source": [
    "## 1、数据收集\n",
    "\n",
    "### 1.1、数据来源\n",
    "\n",
    "1. ***数据文件***： 这是存储数据的常见形式，例如 CSV（逗号分隔值）文件、Excel 文件、JSON 文件、XML 文件等。数据文件通常以结构化或半结构化的方式组织数据，可以通过读取文件的方式将数据导入到应用程序或分析工具中。\n",
    "2. ***数据库***： 是专门用于存储和管理数据的系统，如关系型数据库（如 MySQL、Oracle、SQL Server 等）和非关系型数据库（如 MongoDB、Cassandra 等）。数据库提供了高效的数据存储、检索、更新和管理功能，并支持复杂的查询和事务处理。\n",
    "3. ……\n",
    "\n",
    "<br>\n",
    "\n",
    "### 1.2、选择数据\n",
    "\n",
    "选择将要使用的所有可用数据的子集。需要考虑实际需要哪些数据来解决您正在处理的问题或难题。对所需的数据进行一些假设，并小心记录这些假设，以便以后可以在需要时对其进行测试。\n",
    "\n",
    "> 以下是一些问题，可帮助您思考整个过程：\n",
    " - 您拥有的数据范围有多大？例如，申请使用通过时间，数据库表数量，连接的系统。确保您对可以使用的所有内容都有清晰的了解。\n",
    " - 哪些数据不可用，而您希望您有这些数据？例如，未记录或无法记录的数据。您可以派生或模拟此数据。\n",
    " - 您不需要哪些数据来解决问题？排除数据几乎总是比包含数据更容易。记下您排除了哪些数据及其原因。\n",
    " - 只有在小问题中，例如竞赛或玩具数据集，数据已经为您选择了。\n",
    " - 您选择的数据可能格式不适合使用。数据可能位于关系数据库中，您希望它位于平面文件中，或者数据可能采用专有文件格式。\n",
    "\n",
    "<br>\n",
    "\n",
    "\n",
    "### 1.3、工作空间\n",
    "\n",
    "工作空间可以理解为数据科学项目的目录结构\\项目模板。以下是创建工作空间的两个 python 案例：\n",
    "\n",
    "> **（1）创建工作空间案例 1：**\n",
    "\n",
    "```python\n",
    "import os \n",
    "object_name = 'Kaggle_001_Object-name'\n",
    "    if object_name not in os.listdir():\n",
    "        os.mkdir(object_name)\n",
    "        os.mkdir(object_name+'/input')\n",
    "        os.mkdir(object_name+'/src')\n",
    "        os.mkdir(object_name+'/models')\n",
    "        os.mkdir(object_name+'/notebooks')\n",
    "        open(object_name+'/README.md','w')\n",
    "        open(object_name+'/LICENSE','w')\n",
    "    else:\n",
    "        print(object_name + ' is OK!')\n",
    "```\n",
    "\n",
    "\n",
    " > **（2）创建工作空间案例 2：**\n",
    "\n",
    "```python\n",
    "import os\n",
    "\n",
    "project_name = 'Kaggle_002_class-name'\n",
    "folder_name  = ['input', 'src', 'models', 'notebooks']\n",
    "file_name    = ['README.md', 'LICENSE']\n",
    "file_list    = os.listdir()\n",
    "\n",
    "if project_name not in file_list:\n",
    "  \n",
    "    # （1）、如果该空间不存在则创建工作空间\n",
    "    os.mkdir(project_name)\n",
    "  \n",
    "    # （2）、创建文件夹：'input', 'src', 'models', 'notebooks'\n",
    "    for i in folder_name:\n",
    "        path_folder = os.path.join(project_name, i)\n",
    "        os.mkdir(path_folder)\n",
    "      \n",
    "    # （3）、创建文件：'README.md', 'LICENSE'\n",
    "    for j in file_name:\n",
    "        path_file = os.path.join(project_name, j)\n",
    "        open(path_file, 'w', encoding='utf-8')\n",
    "  \n",
    "    print(project_name + ' is OK!')\n",
    "    \n",
    "else:\n",
    "    print(project_name + ' is OK!')\n",
    "```\n",
    "\n",
    "<br><div style=\"background-color: #fffaf0; border-left: 4px solid #ffa500; padding: 12px; margin-bottom: 16px;\">\n",
    "  <b><i>📝 参考网址\\书籍：</i></b><br>\n",
    " 1. 《Approaching (Almost)  Any Machine Learning Problem》 Abhishek Thakur<br>\n",
    "</div>\n",
    "\n",
    "\n",
    "\n",
    "<br><br>\n",
    "\n",
    "\n",
    "\n",
    "### 1.4、显示设置\\库版本\n",
    "\n",
    "#### 1️⃣ 查看库版本\n",
    "\n",
    "> **（1）`%load_ext watermark` 查看库版本：**"
   ]
  },
  {
   "cell_type": "code",
   "execution_count": null,
   "id": "b6a24b05",
   "metadata": {},
   "outputs": [
    {
     "name": "stdout",
     "output_type": "stream",
     "text": [
      "Requirement already satisfied: watermark in f:\\anaconda3\\lib\\site-packages (2.5.0)\n",
      "Requirement already satisfied: ipython>=6.0 in f:\\anaconda3\\lib\\site-packages (from watermark) (8.27.0)\n",
      "Requirement already satisfied: importlib-metadata>=1.4 in f:\\anaconda3\\lib\\site-packages (from watermark) (7.0.1)\n",
      "Requirement already satisfied: setuptools in f:\\anaconda3\\lib\\site-packages (from watermark) (75.1.0)\n",
      "Requirement already satisfied: zipp>=0.5 in f:\\anaconda3\\lib\\site-packages (from importlib-metadata>=1.4->watermark) (3.17.0)\n",
      "Requirement already satisfied: decorator in f:\\anaconda3\\lib\\site-packages (from ipython>=6.0->watermark) (5.1.1)\n",
      "Requirement already satisfied: jedi>=0.16 in f:\\anaconda3\\lib\\site-packages (from ipython>=6.0->watermark) (0.19.1)\n",
      "Requirement already satisfied: matplotlib-inline in f:\\anaconda3\\lib\\site-packages (from ipython>=6.0->watermark) (0.1.6)\n",
      "Requirement already satisfied: prompt-toolkit<3.1.0,>=3.0.41 in f:\\anaconda3\\lib\\site-packages (from ipython>=6.0->watermark) (3.0.43)\n",
      "Requirement already satisfied: pygments>=2.4.0 in f:\\anaconda3\\lib\\site-packages (from ipython>=6.0->watermark) (2.15.1)\n",
      "Requirement already satisfied: stack-data in f:\\anaconda3\\lib\\site-packages (from ipython>=6.0->watermark) (0.2.0)\n",
      "Requirement already satisfied: traitlets>=5.13.0 in f:\\anaconda3\\lib\\site-packages (from ipython>=6.0->watermark) (5.14.3)\n",
      "Requirement already satisfied: colorama in f:\\anaconda3\\lib\\site-packages (from ipython>=6.0->watermark) (0.4.6)\n",
      "Requirement already satisfied: parso<0.9.0,>=0.8.3 in f:\\anaconda3\\lib\\site-packages (from jedi>=0.16->ipython>=6.0->watermark) (0.8.3)\n",
      "Requirement already satisfied: wcwidth in f:\\anaconda3\\lib\\site-packages (from prompt-toolkit<3.1.0,>=3.0.41->ipython>=6.0->watermark) (0.2.5)\n",
      "Requirement already satisfied: executing in f:\\anaconda3\\lib\\site-packages (from stack-data->ipython>=6.0->watermark) (0.8.3)\n",
      "Requirement already satisfied: asttokens in f:\\anaconda3\\lib\\site-packages (from stack-data->ipython>=6.0->watermark) (2.0.5)\n",
      "Requirement already satisfied: pure-eval in f:\\anaconda3\\lib\\site-packages (from stack-data->ipython>=6.0->watermark) (0.2.2)\n",
      "Requirement already satisfied: six in f:\\anaconda3\\lib\\site-packages (from asttokens->stack-data->ipython>=6.0->watermark) (1.16.0)\n"
     ]
    }
   ],
   "source": [
    "# 在 jupyter lab 执行以下代码\n",
    "! pip install watermark"
   ]
  },
  {
   "cell_type": "code",
   "execution_count": 5,
   "id": "cd98f704",
   "metadata": {},
   "outputs": [
    {
     "name": "stdout",
     "output_type": "stream",
     "text": [
      "The watermark extension is already loaded. To reload it, use:\n",
      "  %reload_ext watermark\n",
      "Author: Sebastian Raschka\n",
      "\n",
      "Last updated: 2025-07-27\n",
      "\n",
      "Python implementation: CPython\n",
      "Python version       : 3.12.7\n",
      "IPython version      : 8.27.0\n",
      "\n",
      "numpy     : 1.26.4\n",
      "pandas    : 2.2.2\n",
      "matplotlib: 3.9.2\n",
      "sklearn   : 1.5.1\n",
      "seaborn   : 0.13.2\n",
      "\n"
     ]
    }
   ],
   "source": [
    "# 在 jupyter lab 执行以下代码查看库版本\n",
    "# 需要先安装 watermark 库\n",
    "# numpy,pandas,matplotlib,sklearn,seaborn version\n",
    "%load_ext watermark\n",
    "%watermark -a \"Sebastian Raschka\" -u -d -v -p\\\n",
    "numpy,pandas,matplotlib,sklearn,seaborn"
   ]
  },
  {
   "cell_type": "markdown",
   "id": "31a365db",
   "metadata": {},
   "source": [
    "> **（2）`xxx.\\_\\_version\\_\\_` 查看库版本：**"
   ]
  },
  {
   "cell_type": "code",
   "execution_count": 6,
   "id": "92f20c9a",
   "metadata": {},
   "outputs": [
    {
     "name": "stdout",
     "output_type": "stream",
     "text": [
      "pandas: 2.2.2\n"
     ]
    }
   ],
   "source": [
    "# 在 jupyter lab 执行以下代码查看 pandas 版本\n",
    "import pandas\n",
    "print('pandas: {}'.format(pandas.__version__))"
   ]
  },
  {
   "cell_type": "markdown",
   "id": "94a629ef",
   "metadata": {},
   "source": [
    "> **（3）`!python --version` 查看 python 版本：**"
   ]
  },
  {
   "cell_type": "code",
   "execution_count": 8,
   "id": "baaa2d51",
   "metadata": {},
   "outputs": [
    {
     "name": "stdout",
     "output_type": "stream",
     "text": [
      "Python 3.12.7\n"
     ]
    }
   ],
   "source": [
    "# 在 jupyter lab 执行以下代码查看 python 版本\n",
    "!python --version"
   ]
  },
  {
   "cell_type": "markdown",
   "id": "17d9ff23",
   "metadata": {},
   "source": [
    "<br><br>\n",
    "\n",
    "#### 2️⃣ 显示设置\n",
    "\n",
    "这里介绍的显示设置主要是关于 pandas 数据框，numpy 数组，matplotlib 的一些常规显示设置 。如，小数位数，matplotlib 主题等，主要是在 jupyter lab 中展示时需要设置。\n",
    "\n",
    "\n",
    "\n",
    "```python\n",
    "# （1）禁止显示不需要的警告\n",
    "# -------------------------\n",
    "import warnings\n",
    "warnings.filterwarnings(\"ignore\") \n",
    "\n",
    "\n",
    "# （2）pandas 设置\n",
    "# -------------------------\n",
    "\n",
    "pd.set_option('display.max_info_columns',200) # info()变量最多显示200个\n",
    "pd.set_option('display.max_info_rows',200)    # info()缺失值个数上限\n",
    "\n",
    "pd.set_option('display.float_format','${:,.2f}'.format)  # 显示格式 $0.67\n",
    "pd.set_option('display.unicode.east_asian_width', False) # 设置输出右对齐，此代码写入脚本中\n",
    "pd.set_option('display.precision',4)          # 保留4位小数\n",
    "pd.set_option('precision', 3)                 # 保留3位小数\n",
    "pd.set_option('display.chop_threshold',0.5)   # 绝对值小于 0.5 显示 0\n",
    "\n",
    "pd.set_option('display.max_rows',5)           # 设置显示数据框行数       \n",
    "pd.set_option('display.max_columns',100)      # 设置显示数据框列数 \n",
    "pd.set_option('display.max_colwidth',200)     # 设置显示数据框列宽       \n",
    "pd.options.display.max_colwidth = 80          # 设置显示数据框列宽  \n",
    "pd.options.display.max_columns = 20           # 设置显示数据框列数 \n",
    "pd.options.display.max_rows = 20              # 设置显示数据框行数\n",
    "\n",
    "pd.set_option('display.colheader_justify', 'left') # 确保列名不换行\n",
    "\n",
    "\n",
    "# （3）matplotlib 设置\n",
    "# -------------------------\n",
    "plt.rcParams['font.sans-serif']=['FangSong']  # 替换sans-serif字体，正常显示中文(黑体)\\'SimHei'\\'FangSong' \n",
    "plt.rcParams[\"font.weight\"] = \"bold\"          # 字体加粗\n",
    "plt.rcParams['axes.unicode_minus'] = False    # 坐标显示负号\n",
    "plt.rcParams['savefig.dpi'] = 1000            # 图片像素\n",
    "plt.rcParams['figure.dpi'] = 100              # 分辨率（不常用）\n",
    "\n",
    "plt.style.use('classic')                      # 设置绘图风格'ggplot'\\'classic' \n",
    "matplotlib.rcdefaults()                       # 使用默认绘图风格\n",
    "\n",
    "\n",
    "# （4）numpy 设置\n",
    "# -------------------------\n",
    "np.set_printoptions(precision=3, suppress=True) # precision：保留几位小数，后面不会补0，supress=True：对很大/小的数不使用科学计数法\n",
    "np.set_printoptions(formatter={'float': '{: 0.3f}'.format}) # formatter：强制格式化，后面会补0 \n",
    "```\n",
    "\n",
    "\n",
    "<br><br>\n",
    "\n",
    "\n",
    "#### 3️⃣ 显示设置案例\n"
   ]
  },
  {
   "cell_type": "code",
   "execution_count": 30,
   "id": "8431c332",
   "metadata": {},
   "outputs": [
    {
     "name": "stdout",
     "output_type": "stream",
     "text": [
      "[ 0.817  0.166  0.870]\n"
     ]
    }
   ],
   "source": [
    "import numpy as np\n",
    "\n",
    "# 创建三个随机小数\n",
    "random_floats = np.random.rand(3)\n",
    "print(random_floats)"
   ]
  },
  {
   "cell_type": "code",
   "execution_count": 32,
   "id": "d0c6ffdb",
   "metadata": {},
   "outputs": [
    {
     "name": "stdout",
     "output_type": "stream",
     "text": [
      "[ 0.817  0.166  0.870]\n"
     ]
    }
   ],
   "source": [
    "# formatter：强制格式化，后面会补0 \n",
    "np.set_printoptions(\n",
    "    formatter={'float': '{: 0.3f}'.format}\n",
    "    )\n",
    " \n",
    "print(random_floats)"
   ]
  },
  {
   "cell_type": "code",
   "execution_count": 51,
   "id": "cfc071c8",
   "metadata": {},
   "outputs": [
    {
     "data": {
      "text/html": [
       "<div>\n",
       "<style scoped>\n",
       "    .dataframe tbody tr th:only-of-type {\n",
       "        vertical-align: middle;\n",
       "    }\n",
       "\n",
       "    .dataframe tbody tr th {\n",
       "        vertical-align: top;\n",
       "    }\n",
       "\n",
       "    .dataframe thead th {\n",
       "        text-align: right;\n",
       "    }\n",
       "</style>\n",
       "<table border=\"1\" class=\"dataframe\">\n",
       "  <thead>\n",
       "    <tr style=\"text-align: right;\">\n",
       "      <th></th>\n",
       "      <th>0</th>\n",
       "    </tr>\n",
       "  </thead>\n",
       "  <tbody>\n",
       "    <tr>\n",
       "      <th>0</th>\n",
       "      <td>$0.82</td>\n",
       "    </tr>\n",
       "    <tr>\n",
       "      <th>1</th>\n",
       "      <td>$0.17</td>\n",
       "    </tr>\n",
       "    <tr>\n",
       "      <th>2</th>\n",
       "      <td>$0.87</td>\n",
       "    </tr>\n",
       "  </tbody>\n",
       "</table>\n",
       "</div>"
      ],
      "text/plain": [
       "      0\n",
       "0 $0.82\n",
       "1 $0.17\n",
       "2 $0.87"
      ]
     },
     "execution_count": 51,
     "metadata": {},
     "output_type": "execute_result"
    }
   ],
   "source": [
    "import pandas as pd\n",
    "# 将列表转换为数据框\n",
    "pd.DataFrame(random_floats)"
   ]
  },
  {
   "cell_type": "code",
   "execution_count": 36,
   "id": "68fea525",
   "metadata": {},
   "outputs": [
    {
     "data": {
      "text/html": [
       "<div>\n",
       "<style scoped>\n",
       "    .dataframe tbody tr th:only-of-type {\n",
       "        vertical-align: middle;\n",
       "    }\n",
       "\n",
       "    .dataframe tbody tr th {\n",
       "        vertical-align: top;\n",
       "    }\n",
       "\n",
       "    .dataframe thead th {\n",
       "        text-align: right;\n",
       "    }\n",
       "</style>\n",
       "<table border=\"1\" class=\"dataframe\">\n",
       "  <thead>\n",
       "    <tr style=\"text-align: right;\">\n",
       "      <th></th>\n",
       "      <th>0</th>\n",
       "    </tr>\n",
       "  </thead>\n",
       "  <tbody>\n",
       "    <tr>\n",
       "      <th>0</th>\n",
       "      <td>$0.82</td>\n",
       "    </tr>\n",
       "    <tr>\n",
       "      <th>1</th>\n",
       "      <td>$0.17</td>\n",
       "    </tr>\n",
       "    <tr>\n",
       "      <th>2</th>\n",
       "      <td>$0.87</td>\n",
       "    </tr>\n",
       "  </tbody>\n",
       "</table>\n",
       "</div>"
      ],
      "text/plain": [
       "      0\n",
       "0 $0.82\n",
       "1 $0.17\n",
       "2 $0.87"
      ]
     },
     "execution_count": 36,
     "metadata": {},
     "output_type": "execute_result"
    }
   ],
   "source": [
    "import pandas as pd\n",
    "\n",
    "# 保留3位小数\n",
    "pd.set_option('display.precision',3)          \n",
    "pd.DataFrame(random_floats)"
   ]
  },
  {
   "cell_type": "code",
   "execution_count": 38,
   "id": "ecacd0b3",
   "metadata": {},
   "outputs": [
    {
     "data": {
      "text/html": [
       "<div>\n",
       "<style scoped>\n",
       "    .dataframe tbody tr th:only-of-type {\n",
       "        vertical-align: middle;\n",
       "    }\n",
       "\n",
       "    .dataframe tbody tr th {\n",
       "        vertical-align: top;\n",
       "    }\n",
       "\n",
       "    .dataframe thead th {\n",
       "        text-align: right;\n",
       "    }\n",
       "</style>\n",
       "<table border=\"1\" class=\"dataframe\">\n",
       "  <thead>\n",
       "    <tr style=\"text-align: right;\">\n",
       "      <th></th>\n",
       "      <th>0</th>\n",
       "    </tr>\n",
       "  </thead>\n",
       "  <tbody>\n",
       "    <tr>\n",
       "      <th>0</th>\n",
       "      <td>$0.82</td>\n",
       "    </tr>\n",
       "    <tr>\n",
       "      <th>1</th>\n",
       "      <td>$0.17</td>\n",
       "    </tr>\n",
       "    <tr>\n",
       "      <th>2</th>\n",
       "      <td>$0.87</td>\n",
       "    </tr>\n",
       "  </tbody>\n",
       "</table>\n",
       "</div>"
      ],
      "text/plain": [
       "      0\n",
       "0 $0.82\n",
       "1 $0.17\n",
       "2 $0.87"
      ]
     },
     "execution_count": 38,
     "metadata": {},
     "output_type": "execute_result"
    }
   ],
   "source": [
    "import pandas as pd\n",
    "\n",
    "# 显示格式 $0.67\n",
    "pd.set_option('display.float_format','${:,.2f}'.format)     \n",
    "pd.DataFrame(random_floats)"
   ]
  },
  {
   "cell_type": "code",
   "execution_count": null,
   "id": "6e67d319",
   "metadata": {},
   "outputs": [],
   "source": []
  },
  {
   "cell_type": "code",
   "execution_count": null,
   "id": "876c9064-7c83-4d5a-bfdc-caf4f3b1a285",
   "metadata": {},
   "outputs": [],
   "source": []
  },
  {
   "cell_type": "code",
   "execution_count": null,
   "id": "748c8a5f-f194-4167-b07a-1d9d53c6f33a",
   "metadata": {},
   "outputs": [],
   "source": []
  },
  {
   "cell_type": "code",
   "execution_count": null,
   "id": "05609de1-c052-4617-aae9-a9e0bd40d28f",
   "metadata": {},
   "outputs": [],
   "source": []
  },
  {
   "cell_type": "code",
   "execution_count": null,
   "id": "9349a61a-d5f9-435a-88cd-54759465205b",
   "metadata": {},
   "outputs": [],
   "source": []
  }
 ],
 "metadata": {
  "kernelspec": {
   "display_name": "Python [conda env:base] *",
   "language": "python",
   "name": "conda-base-py"
  },
  "language_info": {
   "codemirror_mode": {
    "name": "ipython",
    "version": 3
   },
   "file_extension": ".py",
   "mimetype": "text/x-python",
   "name": "python",
   "nbconvert_exporter": "python",
   "pygments_lexer": "ipython3",
   "version": "3.12.7"
  }
 },
 "nbformat": 4,
 "nbformat_minor": 5
}
