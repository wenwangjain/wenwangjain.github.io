{
 "cells": [
  {
   "cell_type": "code",
   "execution_count": 1,
   "id": "a6c15a6c-879e-4f84-803f-3edb385ae495",
   "metadata": {},
   "outputs": [
    {
     "data": {
      "text/plain": [
       "'2.2.2'"
      ]
     },
     "execution_count": 1,
     "metadata": {},
     "output_type": "execute_result"
    }
   ],
   "source": [
    "import pandas as pd\n",
    "pd.__version__"
   ]
  },
  {
   "cell_type": "markdown",
   "id": "3f0c187c",
   "metadata": {},
   "source": [
    "## test"
   ]
  },
  {
   "cell_type": "markdown",
   "id": "e2ef10bd",
   "metadata": {},
   "source": [
    "<div style=\"border: 0.5px solid DarkCyan; border-radius: 10px; width: 100%; border-left-width: 5px; padding: 10px;\">\n",
    "  这是有边框的文字<br>\n",
    "  这是有边框的文字<br>\n",
    "  这是有边框的文字<br>\n",
    "  ......\n",
    "</div>"
   ]
  },
  {
   "cell_type": "markdown",
   "id": "8a916890",
   "metadata": {},
   "source": [
    "<div style=\"display: flex; justify-content: center; width: 100%;\">\n",
    "  <div style=\"flex: 33%; padding: 10px; box-sizing: border-box; text-align: center;\"> 第 1 栏 </div>\n",
    "  <div style=\"flex: 33%; padding: 10px; box-sizing: border-box; text-align: center;\"> 第 2 栏 </div>\n",
    "  <div style=\"flex: 33%; padding: 10px; box-sizing: border-box; text-align: center;\"> 第 3 栏 </div>\n",
    "</div>"
   ]
  },
  {
   "cell_type": "code",
   "execution_count": null,
   "id": "84416eec",
   "metadata": {},
   "outputs": [],
   "source": []
  },
  {
   "cell_type": "code",
   "execution_count": 7,
   "id": "fdf6ae95-570a-48b0-aaa5-93ab962bdd36",
   "metadata": {},
   "outputs": [
    {
     "name": "stdout",
     "output_type": "stream",
     "text": [
      "<class 'pandas.core.frame.DataFrame'>\n",
      "RangeIndex: 4 entries, 0 to 3\n",
      "Data columns (total 1 columns):\n",
      " #   Column  Non-Null Count  Dtype \n",
      "---  ------  --------------  ----- \n",
      " 0   test    4 non-null      object\n",
      "dtypes: object(1)\n",
      "memory usage: 164.0+ bytes\n"
     ]
    }
   ],
   "source": [
    "import pandas as pd\n",
    "\n",
    "data = {\n",
    "    'test': [ \n",
    "           '2024-01-01 16:50:15'\n",
    "          ,'2024-12-09 23:11:49'\n",
    "          ,'2024-12-08 09:30:57'\n",
    "          ,'2024-12-31 09:30:57'\n",
    "          ]\n",
    "}\n",
    "\n",
    "date_df = pd.DataFrame(data)\n",
    "\n",
    "date_df.info()"
   ]
  },
  {
   "cell_type": "markdown",
   "id": "48a4c326",
   "metadata": {},
   "source": [
    "### test"
   ]
  },
  {
   "cell_type": "code",
   "execution_count": 21,
   "id": "a2b5ee66-a818-42bf-a4b9-3c2ca08fa684",
   "metadata": {},
   "outputs": [
    {
     "name": "stdout",
     "output_type": "stream",
     "text": [
      "<class 'pandas.core.frame.DataFrame'>\n",
      "RangeIndex: 4 entries, 0 to 3\n",
      "Data columns (total 1 columns):\n",
      " #   Column  Non-Null Count  Dtype         \n",
      "---  ------  --------------  -----         \n",
      " 0   test    4 non-null      datetime64[ns]\n",
      "dtypes: datetime64[ns](1)\n",
      "memory usage: 164.0 bytes\n",
      "None\n"
     ]
    },
    {
     "data": {
      "text/html": [
       "<div>\n",
       "<style scoped>\n",
       "    .dataframe tbody tr th:only-of-type {\n",
       "        vertical-align: middle;\n",
       "    }\n",
       "\n",
       "    .dataframe tbody tr th {\n",
       "        vertical-align: top;\n",
       "    }\n",
       "\n",
       "    .dataframe thead th {\n",
       "        text-align: right;\n",
       "    }\n",
       "</style>\n",
       "<table border=\"1\" class=\"dataframe\">\n",
       "  <thead>\n",
       "    <tr style=\"text-align: right;\">\n",
       "      <th></th>\n",
       "      <th>test</th>\n",
       "    </tr>\n",
       "  </thead>\n",
       "  <tbody>\n",
       "    <tr>\n",
       "      <th>0</th>\n",
       "      <td>2024-01-01 16:50:15</td>\n",
       "    </tr>\n",
       "    <tr>\n",
       "      <th>1</th>\n",
       "      <td>2024-12-09 23:11:49</td>\n",
       "    </tr>\n",
       "    <tr>\n",
       "      <th>2</th>\n",
       "      <td>2024-12-08 09:30:57</td>\n",
       "    </tr>\n",
       "    <tr>\n",
       "      <th>3</th>\n",
       "      <td>2024-12-31 09:30:57</td>\n",
       "    </tr>\n",
       "  </tbody>\n",
       "</table>\n",
       "</div>"
      ],
      "text/plain": [
       "                 test\n",
       "0 2024-01-01 16:50:15\n",
       "1 2024-12-09 23:11:49\n",
       "2 2024-12-08 09:30:57\n",
       "3 2024-12-31 09:30:57"
      ]
     },
     "execution_count": 21,
     "metadata": {},
     "output_type": "execute_result"
    }
   ],
   "source": [
    "date_df['test'] = pd.to_datetime(\n",
    "     date_df['test']\n",
    "    )\n",
    "\n",
    "print(date_df.info())\n",
    "date_df"
   ]
  },
  {
   "cell_type": "code",
   "execution_count": 12,
   "id": "7a311f80",
   "metadata": {},
   "outputs": [],
   "source": [
    "import matplotlib.pyplot as plt\n",
    "import numpy as np\n",
    "\n",
    "data = {'Barton LLC': 109438.50,\n",
    "        'Frami, Hills and Schmidt': 103569.59,\n",
    "        'Fritsch, Russel and Anderson': 112214.71,\n",
    "        'Jerde-Hilpert': 112591.43,\n",
    "        'Keeling LLC': 100934.30,\n",
    "        'Koepp Ltd': 103660.54,\n",
    "        'Kulas Inc': 137351.96,\n",
    "        'Trantow-Barrows': 123381.38,\n",
    "        'White-Trantow': 135841.99,\n",
    "        'Will LLC': 104437.60}\n",
    "group_data = list(data.values())\n",
    "group_names = list(data.keys())\n",
    "group_mean = np.mean(group_data)"
   ]
  },
  {
   "cell_type": "code",
   "execution_count": 13,
   "id": "2cfb8e26",
   "metadata": {},
   "outputs": [],
   "source": [
    "def currency(x, pos):\n",
    "    \"\"\"The two arguments are the value and tick position\"\"\"\n",
    "    if x >= 1e6:\n",
    "        s = f'${x*1e-6:1.1f}M'\n",
    "    else:\n",
    "        s = f'${x*1e-3:1.0f}K'\n",
    "    return s"
   ]
  },
  {
   "cell_type": "code",
   "execution_count": 16,
   "id": "3389eff5",
   "metadata": {},
   "outputs": [
    {
     "data": {
      "image/png": "[encoded data removed]",
      "text/plain": [
       "<Figure size 800x800 with 1 Axes>"
      ]
     },
     "metadata": {},
     "output_type": "display_data"
    }
   ],
   "source": [
    "fig, ax = plt.subplots(figsize=(8, 8))\n",
    "ax.barh(group_names, group_data)\n",
    "labels = ax.get_xticklabels()\n",
    "plt.setp(labels, rotation=45, horizontalalignment='right')\n",
    "\n",
    "# Add a vertical line, here we set the style in the function call\n",
    "ax.axvline(group_mean, ls='--', color='r')\n",
    "\n",
    "# Annotate new companies\n",
    "for group in [3, 5, 8]:\n",
    "    ax.text(145000, group, \"New Company\", fontsize=10,\n",
    "            verticalalignment=\"center\")\n",
    "\n",
    "# Now we move our title up since it's getting a little cramped\n",
    "ax.title.set(y=1.05)\n",
    "\n",
    "ax.set(xlim=[-10000, 140000], xlabel='Total Revenue', ylabel='Company',\n",
    "       title='Company Revenue')\n",
    "ax.xaxis.set_major_formatter(currency)\n",
    "ax.set_xticks([0, 25e3, 50e3, 75e3, 100e3, 125e3])\n",
    "#fig.subplots_adjust(right=.1)\n",
    "\n",
    "plt.show()"
   ]
  },
  {
   "cell_type": "code",
   "execution_count": null,
   "id": "29ad9ad9",
   "metadata": {},
   "outputs": [],
   "source": []
  },
  {
   "cell_type": "code",
   "execution_count": null,
   "id": "b130aa5b",
   "metadata": {},
   "outputs": [],
   "source": []
  },
  {
   "cell_type": "code",
   "execution_count": null,
   "id": "051ee467",
   "metadata": {},
   "outputs": [],
   "source": []
  },
  {
   "cell_type": "code",
   "execution_count": null,
   "id": "5bcd8763",
   "metadata": {},
   "outputs": [],
   "source": []
  },
  {
   "cell_type": "code",
   "execution_count": null,
   "id": "a69aefba",
   "metadata": {},
   "outputs": [],
   "source": []
  }
 ],
 "metadata": {
  "kernelspec": {
   "display_name": "Python [conda env:base] *",
   "language": "python",
   "name": "conda-base-py"
  },
  "language_info": {
   "codemirror_mode": {
    "name": "ipython",
    "version": 3
   },
   "file_extension": ".py",
   "mimetype": "text/x-python",
   "name": "python",
   "nbconvert_exporter": "python",
   "pygments_lexer": "ipython3",
   "version": "3.12.7"
  }
 },
 "nbformat": 4,
 "nbformat_minor": 5
}
