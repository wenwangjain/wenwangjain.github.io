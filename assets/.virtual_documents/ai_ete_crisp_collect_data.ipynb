


# 在 jupyter lab 执行以下代码
! pip install watermark


# 在 jupyter lab 执行以下代码查看库版本
# 需要先安装 watermark 库
# numpy,pandas,matplotlib,sklearn,seaborn version
%load_ext watermark
%watermark -a "Sebastian Raschka" -u -d -v -p\
numpy,pandas,matplotlib,sklearn,seaborn





# 在 jupyter lab 执行以下代码查看 pandas 版本
import pandas
print('pandas: {}'.format(pandas.__version__))





# 在 jupyter lab 执行以下代码查看 python 版本
!python --version





import numpy as np

# 创建三个随机小数
random_floats = np.random.rand(3)
print(random_floats)


# formatter：强制格式化，后面会补0 
np.set_printoptions(
    formatter={'float': '{: 0.3f}'.format}
    )
 
print(random_floats)


import pandas as pd
# 将列表转换为数据框
pd.DataFrame(random_floats)


import pandas as pd

# 保留3位小数
pd.set_option('display.precision',3)          
pd.DataFrame(random_floats)


import pandas as pd

# 显示格式 $0.67
pd.set_option('display.float_format','${:,.2f}'.format)     
pd.DataFrame(random_floats)





import numpy as np
import pandas as pd

directory = {
    "A": 1.0,
    "B": pd.Timestamp("20130102"),
    "C": pd.Series(1, index=list(range(4)), dtype="float32"),
    "D": np.array([3] * 4, dtype="int32"),
    "E": pd.Categorical(["test", "train", "test", "train"]),
    "F": "foo",
}

df2 = pd.DataFrame(directory)
df2





import numpy as np
import pandas as pd

dates = pd.date_range("20130101", periods=6)

df = pd.DataFrame(
    np.random.randn(6, 4) 
    ,index=dates           
    ,columns=list("ABCD")  
    )

df.head()





# 导入 sklearn.datasets 数据集
from sklearn import datasets

# 导入鸢尾花分类数据集
iris = datasets.load_iris()

# 打印数据描述
#print(iris.DESCR)

# 打印数据字典中的关键字
print('---------- iris.keys() ----------')
print(iris.keys(), '\n')

# 特征值
features = iris.data
print('---------- features[0:10] ----------')
print(features[0:10], '\n')

# 标签值
target = iris.target
print('---------- target[0:10] ----------')
print(target[0:10], '\n')

# 特征名称
feature_names = iris.feature_names
print('---------- feature_names ----------')
print(feature_names, '\n')

# 标签名称
target_names = iris.target_names
print('---------- target_names ----------')
print(target_names, '\n')





# 读取 kaggle 泰坦尼克号数据集

import pandas as pd

df = pd.read_csv(
    'datasets/titanic/train.csv' # 文件名称
    ,header=0                   # 设置第一行为列名称
    )

# 产看前 3 行，前 4 列
df.iloc[:3,0:4]





import numpy as np
import pandas as pd
import csv
import os

# 数据集文件的路径，'datasets/titanic'是文件夹名，"train.csv"是文件名
data_filename = os.path.join(
    'datasets'
    , 'titanic'
    , 'train.csv'
    )

# 用 csv 模块来导入数据集文件，并创建 csv 阅读器对象
with open(data_filename, 'r') as input_file:
    # 创建一个 CSV 读取器对象，用于读取数据文件
    reader = csv.reader(input_file)
    # 将读取到的 CSV 数据转换为列表形式并存储在 iris_data 变量中
    data = list(reader)

# 查看前 3 行，前 4 列
pd.DataFrame(data).iloc[:3,0:4]





import pandas as pd

df = pd.read_excel(
    'datasets/titanic/train.xlsx' # 文件名称
    ,sheet_name='train' 
    ,header=0   # 设置第一行为列名称
    )

# 查看前 3 行，前 4 列
df.iloc[:3,0:4]





# 禁止显示不需要的警告
import warnings
warnings.filterwarnings("ignore") 

sql_student = "SELECT * FROM student"
sql_score = "SELECT * FROM score"
sql_teacher = "SELECT * FROM teacher"
sql_course = "SELECT * FROM course"

# 导入库
import pymysql
import pandas as pd

conn = pymysql.connect(
     host='localhost'
    ,user='root'
    ,password = "000000"
    ,db='test'
)

df_student = pd.read_sql(
     sql_student # 
    ,conn
    )

df_student.head()


















