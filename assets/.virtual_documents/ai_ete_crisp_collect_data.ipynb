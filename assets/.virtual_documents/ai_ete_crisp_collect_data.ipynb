


# 在 jupyter lab 执行以下代码
! pip install watermark


# 在 jupyter lab 执行以下代码查看库版本
# 需要先安装 watermark 库
# numpy,pandas,matplotlib,sklearn,seaborn version
%load_ext watermark
%watermark -a "Sebastian Raschka" -u -d -v -p\
numpy,pandas,matplotlib,sklearn,seaborn





# 在 jupyter lab 执行以下代码查看 pandas 版本
import pandas
print('pandas: {}'.format(pandas.__version__))





# 在 jupyter lab 执行以下代码查看 python 版本
!python --version





import numpy as np

# 创建三个随机小数
random_floats = np.random.rand(3)
print(random_floats)


# formatter：强制格式化，后面会补0 
np.set_printoptions(
    formatter={'float': '{: 0.3f}'.format}
    )
 
print(random_floats)


import pandas as pd
# 将列表转换为数据框
df = pd.DataFrame(random_floats)
df


import pandas as pd

# 保留3位小数
pd.set_option('display.precision',3)          
df = pd.DataFrame(random_floats)
df


import pandas as pd

# 显示格式 $0.67
pd.set_option('display.float_format','${:,.2f}'.format)     
df = pd.DataFrame(random_floats)
df















